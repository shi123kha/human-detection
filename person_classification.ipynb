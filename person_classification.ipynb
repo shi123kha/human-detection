{
 "cells": [
  {
   "cell_type": "code",
   "execution_count": 4,
   "metadata": {
    "id": "5QLjhkXIFjjz"
   },
   "outputs": [],
   "source": [
    "from keras.applications import ResNet50,ResNet152V2\n",
    "from keras.layers import Dense, GlobalAveragePooling2D\n",
    "from keras.models import Model\n",
    "from keras.optimizers import SGD\n",
    "from keras.preprocessing.image import ImageDataGenerator\n",
    "import os\n",
    "from tensorflow.keras.applications.inception_v3 import InceptionV3\n",
    "import matplotlib.pyplot as plt\n",
    "from tensorflow.keras.optimizers import Adam\n",
    "from tensorflow.keras.preprocessing.image import ImageDataGenerator\n",
    "from tensorflow.keras.layers import Conv2D, MaxPooling2D, Flatten, Dense, Dropout\n",
    "from tensorflow.keras.models import Sequential\n",
    "from tensorflow.keras.callbacks import EarlyStopping, ModelCheckpoint"
   ]
  },
  {
   "cell_type": "code",
   "execution_count": 5,
   "metadata": {
    "id": "x-2q27BaW5iz"
   },
   "outputs": [],
   "source": [
    "#!unzip /content/drive/MyDrive/christmas/person_detection.zip"
   ]
  },
  {
   "cell_type": "code",
   "execution_count": 7,
   "metadata": {
    "id": "FXdxDTHoSw7v"
   },
   "outputs": [],
   "source": [
    "#from google.colab import drive\n",
    "#drive.mount('/content/drive')"
   ]
  },
  {
   "cell_type": "markdown",
   "metadata": {},
   "source": [
    "# Preparing Training Data"
   ]
  },
  {
   "cell_type": "code",
   "execution_count": 9,
   "metadata": {
    "id": "AFphayICS12U"
   },
   "outputs": [],
   "source": [
    "train_dir='/Users/shikha/Documents/person_detection/train' \n",
    "validation_dir='/Users/shikha/Documents/person_detection/validation'"
   ]
  },
  {
   "cell_type": "code",
   "execution_count": 10,
   "metadata": {},
   "outputs": [
    {
     "name": "stdout",
     "output_type": "stream",
     "text": [
      "WARNING: requirements.txt already exists, use --force to overwrite it\r\n"
     ]
    }
   ],
   "source": [
    "!pipreqs"
   ]
  },
  {
   "cell_type": "code",
   "execution_count": 11,
   "metadata": {
    "id": "q-oXKk7hTEOp"
   },
   "outputs": [],
   "source": [
    "train_cloud_dir = os.path.join(train_dir, 'Ubereat')\n",
    "os.mkdir(train_cloud_dir)\n",
    "\n",
    "train_foggy_dir = os.path.join(train_dir, 'Dunzo')\n",
    "os.mkdir(train_foggy_dir)\n",
    "\n",
    "train_foggy_dir = os.path.join(train_dir, 'others')\n",
    "os.mkdir(train_foggy_dir)"
   ]
  },
  {
   "cell_type": "code",
   "execution_count": 12,
   "metadata": {
    "id": "3HQDY7YBTEwI"
   },
   "outputs": [],
   "source": [
    "validation_cloud_dir = os.path.join(validation_dir, 'Ubereat')\n",
    "os.mkdir(validation_cloud_dir)\n",
    "\n",
    "validation_foggy_dir = os.path.join(validation_dir, 'Dunzo')\n",
    "os.mkdir(validation_foggy_dir)\n",
    "\n",
    "validation_foggy_dir = os.path.join(validation_dir, 'others')\n",
    "os.mkdir(validation_foggy_dir)"
   ]
  },
  {
   "cell_type": "code",
   "execution_count": 24,
   "metadata": {
    "id": "Aeq5khIdTEzF"
   },
   "outputs": [],
   "source": [
    "def split_data(SOURCE, TRAINING, VALIDATION, SPLIT_SIZE):\n",
    "    files = []\n",
    "    for filename in os.listdir(SOURCE):\n",
    "        file = SOURCE + filename\n",
    "        if os.path.getsize(file) > 0:\n",
    "            files.append(filename)\n",
    "        else:\n",
    "            print(filename + \" is zero length, so ignoring.\")\n",
    "\n",
    "    training_length = int(len(files) * SPLIT_SIZE)\n",
    "    valid_length = int(len(files) - training_length)\n",
    "    shuffled_set = random.sample(files, len(files))\n",
    "    training_set = shuffled_set[0:training_length]\n",
    "    valid_set = shuffled_set[training_length:]\n",
    "\n",
    "    for filename in training_set:\n",
    "        this_file = SOURCE + filename\n",
    "        destination = TRAINING + filename\n",
    "        copyfile(this_file, destination)\n",
    "\n",
    "    for filename in valid_set:\n",
    "        this_file = SOURCE + filename\n",
    "        destination = VALIDATION + filename\n",
    "        copyfile(this_file, destination)"
   ]
  },
  {
   "cell_type": "code",
   "execution_count": 8,
   "metadata": {
    "id": "iEK31FxPX9Sd"
   },
   "outputs": [],
   "source": [
    "!rm -rf -r /content/person_detection/Ubereat"
   ]
  },
  {
   "cell_type": "code",
   "execution_count": 26,
   "metadata": {
    "id": "o6lBoPRjTE23"
   },
   "outputs": [],
   "source": [
    "SWIGGY_SOURCE_DIR = '/Users/shikha/Documents/person_detection/Ubereat/'\n",
    "TRAINING_SWIGGY_DIR = '/Users/shikha/Documents/person_detection/train/Ubereat/'\n",
    "VALID_SWIGGY_DIR = '/Users/shikha/Documents/person_detection/validation/Ubereat/'\n",
    "\n",
    "DUNZO_SOURCE_DIR = '/Users/shikha/Documents/person_detection/Dunzo/'\n",
    "TRAINING_DUNZO_DIR = '/Users/shikha/Documents/person_detection/train/Dunzo/'\n",
    "VALID_DUNZO_DIR = '/Users/shikha/Documents/person_detection/validation/Dunzo/'\n",
    "\n",
    "ZOMATO_SOURCE_DIR = '/Users/shikha/Documents/person_detection/others/'\n",
    "TRAINING_ZOMATO_DIR = '/Users/shikha/Documents/person_detection/train/others/'\n",
    "VALID_ZOMATO_DIR = '/Users/shikha/Documents/person_detection/validation/others/'"
   ]
  },
  {
   "cell_type": "code",
   "execution_count": 27,
   "metadata": {
    "id": "VABifIx9UbUR"
   },
   "outputs": [],
   "source": [
    "import os\n",
    "import random\n",
    "from shutil import copyfile\n",
    "\n",
    "split_size = .85\n",
    "\n",
    "split_data(SWIGGY_SOURCE_DIR, TRAINING_SWIGGY_DIR, VALID_SWIGGY_DIR, split_size)\n",
    "split_data(ZOMATO_SOURCE_DIR, TRAINING_ZOMATO_DIR, VALID_ZOMATO_DIR, split_size)\n",
    "split_data(DUNZO_SOURCE_DIR, TRAINING_DUNZO_DIR, VALID_DUNZO_DIR, split_size)"
   ]
  },
  {
   "cell_type": "code",
   "execution_count": 29,
   "metadata": {},
   "outputs": [
    {
     "name": "stdout",
     "output_type": "stream",
     "text": [
      "{'.DS_Store': 0, 'zomato': 300, 'others': 357, 'Dunzo': 154, 'Ubereat': 218, 'swiggy': 325}\n"
     ]
    }
   ],
   "source": [
    "import glob\n",
    "\n",
    "train_dir = '/Users/shikha/Documents/person_detection/train'\n",
    "classes = os.listdir(train_dir)\n",
    "num_images = {}\n",
    "\n",
    "for class_name in classes:\n",
    "    class_path = os.path.join(train_dir, class_name)\n",
    "    images = glob.glob(class_path + '/*.jpg')\n",
    "    num_images[class_name] = len(images)\n",
    "\n",
    "print(num_images)"
   ]
  },
  {
   "cell_type": "code",
   "execution_count": 12,
   "metadata": {
    "id": "oVZcpC1hFvGh"
   },
   "outputs": [],
   "source": [
    "img_width=256; img_height=256\n",
    "batch_size=16"
   ]
  },
  {
   "cell_type": "code",
   "execution_count": 13,
   "metadata": {
    "colab": {
     "base_uri": "https://localhost:8080/"
    },
    "id": "e4DgDHf5F4sD",
    "outputId": "e278edc1-6030-416f-c858-6b7236a2fa9f"
   },
   "outputs": [
    {
     "name": "stdout",
     "output_type": "stream",
     "text": [
      "Found 1354 images belonging to 5 classes.\n"
     ]
    }
   ],
   "source": [
    "\n",
    "TRAINING_DIR = '/Users/shikha/Documents/person_detection/train' \n",
    "\n",
    "train_datagen = ImageDataGenerator(rescale = 1/255.0,\n",
    "                                   rotation_range=30,\n",
    "                                   zoom_range=0.4,\n",
    "                                   horizontal_flip=True)\n",
    "\n",
    "train_generator = train_datagen.flow_from_directory(TRAINING_DIR,\n",
    "                                                    batch_size=batch_size,\n",
    "                                                    class_mode='categorical',\n",
    "                                                    target_size=(img_height, img_width))"
   ]
  },
  {
   "cell_type": "code",
   "execution_count": 14,
   "metadata": {
    "colab": {
     "base_uri": "https://localhost:8080/"
    },
    "id": "WdeEmH7QF6Vy",
    "outputId": "43d04a93-79cb-47f8-b212-6c2f1772c323"
   },
   "outputs": [
    {
     "name": "stdout",
     "output_type": "stream",
     "text": [
      "Found 372 images belonging to 5 classes.\n"
     ]
    }
   ],
   "source": [
    "VALIDATION_DIR = '/Users/shikha/Documents/person_detection/validation/'\n",
    "\n",
    "validation_datagen = ImageDataGenerator(rescale = 1/255.0)\n",
    "\n",
    "validation_generator = validation_datagen.flow_from_directory(VALIDATION_DIR,\n",
    "                                                              batch_size=batch_size,\n",
    "                                                              class_mode='categorical',\n",
    "                                                              target_size=(img_height, img_width)\n",
    "                                                             )"
   ]
  },
  {
   "cell_type": "code",
   "execution_count": 15,
   "metadata": {
    "id": "qGr0ZkX3F9QY"
   },
   "outputs": [],
   "source": [
    "\n",
    "callbacks = EarlyStopping(monitor='val_loss', patience=5, verbose=1, mode='auto')\n",
    "# autosave best Model\n",
    "best_model_file = '/content/CNN_aug_best_weights.h5'\n",
    "best_model = ModelCheckpoint(best_model_file, monitor='val_acc', verbose = 1, save_best_only = True)"
   ]
  },
  {
   "cell_type": "code",
   "execution_count": 16,
   "metadata": {
    "id": "K-VwltXyGmtq"
   },
   "outputs": [],
   "source": [
    "# Define constants\n",
    "NUM_CLASSES = 5  # Number of classes in the classification task\n",
    "IMG_SIZE = (224, 224)  # Image size for ResNet50"
   ]
  },
  {
   "cell_type": "markdown",
   "metadata": {},
   "source": [
    "# Training Using pretrained Resnet50 weights"
   ]
  },
  {
   "cell_type": "code",
   "execution_count": 17,
   "metadata": {
    "colab": {
     "base_uri": "https://localhost:8080/"
    },
    "id": "18eidkuvGnVg",
    "outputId": "e238de0d-9f74-4bd1-83d7-37200d96ecb3"
   },
   "outputs": [
    {
     "name": "stderr",
     "output_type": "stream",
     "text": [
      "2023-04-19 14:38:04.613786: I tensorflow/core/platform/cpu_feature_guard.cc:193] This TensorFlow binary is optimized with oneAPI Deep Neural Network Library (oneDNN) to use the following CPU instructions in performance-critical operations:  SSE4.1 SSE4.2\n",
      "To enable them in other operations, rebuild TensorFlow with the appropriate compiler flags.\n"
     ]
    }
   ],
   "source": [
    "base_model = ResNet50(weights='imagenet', include_top=False, input_shape=(*IMG_SIZE, 3))\n",
    "\n",
    "# Add custom head to the pre-trained model\n",
    "x = base_model.output\n",
    "x = GlobalAveragePooling2D()(x)\n",
    "x = Dense(256, activation='relu')(x)\n",
    "predictions = Dense(NUM_CLASSES, activation='softmax')(x)\n",
    "model = Model(inputs=base_model.input, outputs=predictions)"
   ]
  },
  {
   "cell_type": "code",
   "execution_count": 18,
   "metadata": {
    "id": "EWXHOzGkaFny"
   },
   "outputs": [],
   "source": [
    "## Accuracy of Resnet50 after 10 epochs#\n",
    "#Test loss: 1.3721126317977905\n",
    "#Test accuracy: 0.3121951222419739"
   ]
  },
  {
   "cell_type": "code",
   "execution_count": 19,
   "metadata": {
    "id": "kXU2oD3-aoMJ"
   },
   "outputs": [],
   "source": [
    "# using Inception V3\n",
    "# re-size all the images to this\n",
    "IMAGE_SIZE = [224, 224]"
   ]
  },
  {
   "cell_type": "markdown",
   "metadata": {},
   "source": [
    "# Training Using pretrained InceptionV3 weights¶"
   ]
  },
  {
   "cell_type": "code",
   "execution_count": 20,
   "metadata": {
    "colab": {
     "base_uri": "https://localhost:8080/"
    },
    "id": "duVQsa4jaFt4",
    "outputId": "5b11a29c-2fc3-4439-c820-5c9e1a950488"
   },
   "outputs": [],
   "source": [
    "inception = InceptionV3(input_shape=IMAGE_SIZE + [3], weights='imagenet', include_top=False)\n",
    "# don't train existing weights\n",
    "# Add custom head to the pre-trained model\n",
    "x = inception.output\n",
    "x = GlobalAveragePooling2D()(x)\n",
    "x = Dense(256, activation='relu')(x)\n",
    "predictions = Dense(NUM_CLASSES, activation='softmax')(x)\n",
    "model = Model(inputs=inception.input, outputs=predictions)"
   ]
  },
  {
   "cell_type": "code",
   "execution_count": 67,
   "metadata": {
    "id": "72a8V4J2coHh"
   },
   "outputs": [],
   "source": [
    "## Accuracy of InceptionV3 after 10 epochs\n",
    "#Test loss: 0.5956321358680725\n",
    "#Test accuracy: 0.8487805128097534"
   ]
  },
  {
   "cell_type": "code",
   "execution_count": 71,
   "metadata": {
    "id": "oIFmzUeqOlO-"
   },
   "outputs": [],
   "source": [
    "! rm -rf -r /content/person_detection"
   ]
  },
  {
   "cell_type": "markdown",
   "metadata": {},
   "source": [
    "# Training Using pretrained ResNet152V2 weights"
   ]
  },
  {
   "cell_type": "code",
   "execution_count": 68,
   "metadata": {
    "id": "uA0thzo0asZ0"
   },
   "outputs": [],
   "source": [
    "import keras\n",
    "resnet =keras.applications.ResNet152V2(input_shape=IMAGE_SIZE + [3], weights='imagenet', include_top=False)\n",
    "# don't train existing weights\n",
    "# Add custom head to the pre-trained model\n",
    "x = resnet.output\n",
    "x = GlobalAveragePooling2D()(x)\n",
    "x = Dense(256, activation='relu')(x)\n",
    "predictions = Dense(NUM_CLASSES, activation='softmax')(x)\n",
    "model = Model(inputs=resnet.input, outputs=predictions)"
   ]
  },
  {
   "cell_type": "code",
   "execution_count": 13,
   "metadata": {
    "id": "S6Q6axctdNuV"
   },
   "outputs": [],
   "source": [
    "## Accuracy of ResNet152V2 after 10 epochs\n",
    "#Test loss: 0.5792665481567383\n",
    "#Test accuracy: 0.8536585569381714"
   ]
  },
  {
   "cell_type": "markdown",
   "metadata": {},
   "source": [
    "# Model Training"
   ]
  },
  {
   "cell_type": "code",
   "execution_count": 21,
   "metadata": {
    "id": "906GQZ_fZGy0"
   },
   "outputs": [],
   "source": [
    "\n",
    "model.compile(optimizer='Adam', \n",
    "              loss='categorical_crossentropy', \n",
    "              metrics =['accuracy'])"
   ]
  },
  {
   "cell_type": "code",
   "execution_count": 22,
   "metadata": {
    "colab": {
     "base_uri": "https://localhost:8080/"
    },
    "id": "0XcII4lqZI3q",
    "outputId": "3cf28cc1-4b7e-4b25-c835-8ea014ab4c6e"
   },
   "outputs": [
    {
     "name": "stdout",
     "output_type": "stream",
     "text": [
      "Epoch 1/10\n",
      "85/85 [==============================] - ETA: 0s - loss: 1.0626 - accuracy: 0.5864WARNING:tensorflow:Can save best model only with val_acc available, skipping.\n",
      "85/85 [==============================] - 179s 2s/step - loss: 1.0626 - accuracy: 0.5864 - val_loss: 10.7230 - val_accuracy: 0.4005\n",
      "Epoch 2/10\n",
      "85/85 [==============================] - ETA: 0s - loss: 0.7203 - accuracy: 0.7341WARNING:tensorflow:Can save best model only with val_acc available, skipping.\n",
      "85/85 [==============================] - 177s 2s/step - loss: 0.7203 - accuracy: 0.7341 - val_loss: 3.2643 - val_accuracy: 0.6290\n",
      "Epoch 3/10\n",
      "85/85 [==============================] - ETA: 0s - loss: 0.6133 - accuracy: 0.7777WARNING:tensorflow:Can save best model only with val_acc available, skipping.\n",
      "85/85 [==============================] - 172s 2s/step - loss: 0.6133 - accuracy: 0.7777 - val_loss: 2.3834 - val_accuracy: 0.6048\n",
      "Epoch 4/10\n",
      "85/85 [==============================] - ETA: 0s - loss: 0.5469 - accuracy: 0.7895WARNING:tensorflow:Can save best model only with val_acc available, skipping.\n",
      "85/85 [==============================] - 177s 2s/step - loss: 0.5469 - accuracy: 0.7895 - val_loss: 3.7333 - val_accuracy: 0.5484\n",
      "Epoch 5/10\n",
      "85/85 [==============================] - ETA: 0s - loss: 0.5881 - accuracy: 0.7733WARNING:tensorflow:Can save best model only with val_acc available, skipping.\n",
      "85/85 [==============================] - 174s 2s/step - loss: 0.5881 - accuracy: 0.7733 - val_loss: 4.5577 - val_accuracy: 0.3763\n",
      "Epoch 6/10\n",
      "85/85 [==============================] - ETA: 0s - loss: 0.5295 - accuracy: 0.7954WARNING:tensorflow:Can save best model only with val_acc available, skipping.\n",
      "85/85 [==============================] - 173s 2s/step - loss: 0.5295 - accuracy: 0.7954 - val_loss: 1.4330 - val_accuracy: 0.6989\n",
      "Epoch 7/10\n",
      "85/85 [==============================] - ETA: 0s - loss: 0.4763 - accuracy: 0.8250WARNING:tensorflow:Can save best model only with val_acc available, skipping.\n",
      "85/85 [==============================] - 173s 2s/step - loss: 0.4763 - accuracy: 0.8250 - val_loss: 1.4625 - val_accuracy: 0.7366\n",
      "Epoch 8/10\n",
      "85/85 [==============================] - ETA: 0s - loss: 0.4936 - accuracy: 0.8102WARNING:tensorflow:Can save best model only with val_acc available, skipping.\n",
      "85/85 [==============================] - 175s 2s/step - loss: 0.4936 - accuracy: 0.8102 - val_loss: 0.4100 - val_accuracy: 0.8629\n",
      "Epoch 9/10\n",
      "85/85 [==============================] - ETA: 0s - loss: 0.4239 - accuracy: 0.8375WARNING:tensorflow:Can save best model only with val_acc available, skipping.\n",
      "85/85 [==============================] - 177s 2s/step - loss: 0.4239 - accuracy: 0.8375 - val_loss: 0.6426 - val_accuracy: 0.7366\n",
      "Epoch 10/10\n",
      "85/85 [==============================] - ETA: 0s - loss: 0.4206 - accuracy: 0.8486WARNING:tensorflow:Can save best model only with val_acc available, skipping.\n",
      "85/85 [==============================] - 176s 2s/step - loss: 0.4206 - accuracy: 0.8486 - val_loss: 0.6670 - val_accuracy: 0.8387\n"
     ]
    }
   ],
   "source": [
    "history = model.fit_generator(train_generator,\n",
    "                              epochs=10,\n",
    "                              verbose=1,\n",
    "                              validation_data=validation_generator,\n",
    "                              callbacks = [best_model]\n",
    "                              )"
   ]
  },
  {
   "cell_type": "markdown",
   "metadata": {},
   "source": [
    "# Evaluate the model"
   ]
  },
  {
   "cell_type": "code",
   "execution_count": 24,
   "metadata": {
    "colab": {
     "base_uri": "https://localhost:8080/"
    },
    "id": "oi5LXHAbZMO1",
    "outputId": "efea67ce-28ed-4f8d-f24b-79d469c28d25"
   },
   "outputs": [
    {
     "name": "stdout",
     "output_type": "stream",
     "text": [
      "Test loss: 0.6670336723327637\n",
      "Test accuracy: 0.8387096524238586\n"
     ]
    }
   ],
   "source": [
    "# Evaluate the model\n",
    "score = model.evaluate_generator(validation_generator, steps=len(validation_generator))\n",
    "print('Test loss:', score[0])\n",
    "print('Test accuracy:', score[1])"
   ]
  },
  {
   "cell_type": "code",
   "execution_count": 25,
   "metadata": {
    "colab": {
     "base_uri": "https://localhost:8080/",
     "height": 443
    },
    "id": "DxigMzzRZO4f",
    "outputId": "132faf80-8772-4794-bed8-34e765a3c48e"
   },
   "outputs": [
    {
     "data": {
      "image/png": "[encoded data removed]",
      "text/plain": [
       "<Figure size 1400x700 with 1 Axes>"
      ]
     },
     "metadata": {},
     "output_type": "display_data"
    }
   ],
   "source": [
    "acc=history.history['accuracy']\n",
    "val_acc=history.history['val_accuracy']\n",
    "loss=history.history['loss']\n",
    "val_loss=history.history['val_loss']\n",
    "\n",
    "epochs=range(len(acc))\n",
    "\n",
    "fig = plt.figure(figsize=(14,7))\n",
    "plt.plot(epochs, acc, 'r', label=\"Training Accuracy\")\n",
    "plt.plot(epochs, val_acc, 'b', label=\"Validation Accuracy\")\n",
    "plt.xlabel('Epoch')\n",
    "plt.ylabel('Accuracy')\n",
    "plt.title('Training and validation accuracy')\n",
    "plt.legend(loc='lower right')\n",
    "plt.show()"
   ]
  },
  {
   "cell_type": "code",
   "execution_count": 47,
   "metadata": {
    "colab": {
     "base_uri": "https://localhost:8080/",
     "height": 34
    },
    "id": "dViooP_-hiMe",
    "outputId": "ec71cade-f255-4754-a1e1-888231df199d"
   },
   "outputs": [
    {
     "data": {
      "application/javascript": [
       "\n",
       "    async function download(id, filename, size) {\n",
       "      if (!google.colab.kernel.accessAllowed) {\n",
       "        return;\n",
       "      }\n",
       "      const div = document.createElement('div');\n",
       "      const label = document.createElement('label');\n",
       "      label.textContent = `Downloading \"${filename}\": `;\n",
       "      div.appendChild(label);\n",
       "      const progress = document.createElement('progress');\n",
       "      progress.max = size;\n",
       "      div.appendChild(progress);\n",
       "      document.body.appendChild(div);\n",
       "\n",
       "      const buffers = [];\n",
       "      let downloaded = 0;\n",
       "\n",
       "      const channel = await google.colab.kernel.comms.open(id);\n",
       "      // Send a message to notify the kernel that we're ready.\n",
       "      channel.send({})\n",
       "\n",
       "      for await (const message of channel.messages) {\n",
       "        // Send a message to notify the kernel that we're ready.\n",
       "        channel.send({})\n",
       "        if (message.buffers) {\n",
       "          for (const buffer of message.buffers) {\n",
       "            buffers.push(buffer);\n",
       "            downloaded += buffer.byteLength;\n",
       "            progress.value = downloaded;\n",
       "          }\n",
       "        }\n",
       "      }\n",
       "      const blob = new Blob(buffers, {type: 'application/binary'});\n",
       "      const a = document.createElement('a');\n",
       "      a.href = window.URL.createObjectURL(blob);\n",
       "      a.download = filename;\n",
       "      div.appendChild(a);\n",
       "      a.click();\n",
       "      div.remove();\n",
       "    }\n",
       "  "
      ],
      "text/plain": [
       "<IPython.core.display.Javascript object>"
      ]
     },
     "metadata": {},
     "output_type": "display_data"
    },
    {
     "data": {
      "application/javascript": [
       "download(\"download_8a04f9b2-575f-4fed-aae6-8ced7f32535e\", \"inceptionv3.h5\", 269123032)"
      ],
      "text/plain": [
       "<IPython.core.display.Javascript object>"
      ]
     },
     "metadata": {},
     "output_type": "display_data"
    }
   ],
   "source": [
    "from google.colab import files\n",
    "files.download(\"/content/person_detection/inceptionv3.h5\")"
   ]
  },
  {
   "cell_type": "code",
   "execution_count": 26,
   "metadata": {
    "id": "kN2CM7-HZq_n"
   },
   "outputs": [],
   "source": [
    "from tensorflow.keras.models import load_model\n",
    "\n",
    "model.save('/Users/shikha/Documents/inceptionv31.h5')\n"
   ]
  },
  {
   "cell_type": "code",
   "execution_count": 4,
   "metadata": {},
   "outputs": [
    {
     "name": "stderr",
     "output_type": "stream",
     "text": [
      "2023-04-18 22:30:02.660177: I tensorflow/core/platform/cpu_feature_guard.cc:193] This TensorFlow binary is optimized with oneAPI Deep Neural Network Library (oneDNN) to use the following CPU instructions in performance-critical operations:  SSE4.1 SSE4.2\n",
      "To enable them in other operations, rebuild TensorFlow with the appropriate compiler flags.\n"
     ]
    }
   ],
   "source": [
    "model = load_model('/Users/shikha/Documents/inceptionv3.h5')"
   ]
  },
  {
   "cell_type": "code",
   "execution_count": 27,
   "metadata": {
    "colab": {
     "base_uri": "https://localhost:8080/"
    },
    "id": "m1o7HmrHn8Nf",
    "outputId": "03a018a7-d84b-4e67-cf70-c52a16617b02"
   },
   "outputs": [
    {
     "name": "stdout",
     "output_type": "stream",
     "text": [
      "24/24 [==============================] - 13s 510ms/step\n",
      "[[ 0  7 12  4  5]\n",
      " [ 5 14 31 24 15]\n",
      " [ 3 43 41 39 12]\n",
      " [ 1 16 27 14  5]\n",
      " [ 2 20 13  9 10]]\n"
     ]
    }
   ],
   "source": [
    "from sklearn.metrics import confusion_matrix\n",
    "import numpy as np\n",
    "\n",
    "# Generate predictions for test set\n",
    "y_pred = model.predict(validation_generator)\n",
    "\n",
    "# Convert predicted probabilities to predicted class labels\n",
    "y_pred_labels = np.argmax(y_pred, axis=1)\n",
    "\n",
    "# Get true class labels\n",
    "y_true_labels = validation_generator.classes\n",
    "\n",
    "# Print confusion matrix\n",
    "conf_mat = confusion_matrix(y_true_labels, y_pred_labels)\n",
    "print(conf_mat)\n",
    "\n"
   ]
  },
  {
   "cell_type": "code",
   "execution_count": 30,
   "metadata": {
    "id": "CES_qkStgE1V"
   },
   "outputs": [],
   "source": [
    "from tensorflow.keras.preprocessing.image import load_img, img_to_array\n",
    "import numpy as np\n",
    "\n",
    "# Load and preprocess the test image\n",
    "#img_path = '/Users/shikha/Documents/person_detection_prev/zomato/images166_3.jpg'  # Update with the path to your test image\n",
    "img_path='/Users/shikha/Documents/person_detection_prev/others/images233_1.jpg'\n",
    "img = load_img(img_path, target_size=(224, 224))  # Assumes image size of (224, 224) for ResNet50\n",
    "img_array = img_to_array(img)\n",
    "img_array = np.expand_dims(img_array, axis=0)\n",
    "img_array /= 255.0  # Normalize pixel values\n"
   ]
  },
  {
   "cell_type": "code",
   "execution_count": 31,
   "metadata": {
    "colab": {
     "base_uri": "https://localhost:8080/"
    },
    "id": "kuEWrLOwhSEz",
    "outputId": "d862b617-bba6-4b2a-b9bd-9424f4e833be"
   },
   "outputs": [
    {
     "name": "stdout",
     "output_type": "stream",
     "text": [
      "{0: 'Dunzo', 1: 'Ubereat', 2: 'others', 3: 'swiggy', 4: 'zomato'}\n",
      "1/1 [==============================] - 0s 68ms/step\n",
      "Predicted class label: others\n"
     ]
    }
   ],
   "source": [
    "# Get the class indices from the train generator\n",
    "class_indices = validation_generator.class_indices\n",
    "\n",
    "# Reverse the dictionary mapping class indices to class labels\n",
    "class_labels = {v: k for k, v in class_indices.items()}\n",
    "\n",
    "print(class_labels)\n",
    "\n",
    "# Make predictions on the test image\n",
    "predictions = model.predict(img_array)\n",
    "\n",
    "# Get the predicted class index with the highest probability\n",
    "predicted_class_index = np.argmax(predictions)\n",
    "\n",
    "# Get the corresponding class label\n",
    "predicted_class_label = class_labels[predicted_class_index]\n",
    "\n",
    "print(\"Predicted class label:\", predicted_class_label)\n",
    "#{0: 'Dunzo', 1: 'Ubereat', 2: 'others', 3: 'swiggy', 4: 'zomato'}"
   ]
  }
 ],
 "metadata": {
  "accelerator": "GPU",
  "colab": {
   "provenance": []
  },
  "gpuClass": "standard",
  "kernelspec": {
   "display_name": "Python 3 (ipykernel)",
   "language": "python",
   "name": "python3"
  },
  "language_info": {
   "codemirror_mode": {
    "name": "ipython",
    "version": 3
   },
   "file_extension": ".py",
   "mimetype": "text/x-python",
   "name": "python",
   "nbconvert_exporter": "python",
   "pygments_lexer": "ipython3",
   "version": "3.9.13"
  }
 },
 "nbformat": 4,
 "nbformat_minor": 1
}
